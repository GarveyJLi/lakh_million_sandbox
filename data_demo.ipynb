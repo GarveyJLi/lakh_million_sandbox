{
 "cells": [
  {
   "cell_type": "code",
   "execution_count": 1,
   "metadata": {},
   "outputs": [],
   "source": [
    "import json\n",
    "from collections import defaultdict\n",
    "from sklearn import linear_model, model_selection\n",
    "import numpy as np\n",
    "import random\n",
    "import gzip\n",
    "import dateutil.parser\n",
    "import math\n",
    "import mido\n",
    "import pretty_midi\n",
    "import joblib\n",
    "import glob\n",
    "import matplotlib.pyplot as plt\n",
    "import seaborn as sns\n",
    "import matplotlib.gridspec\n",
    "import collections\n",
    "import os\n",
    "import tarfile\n",
    "import tables\n",
    "import hdf5_getters as GETTERS\n",
    "from midi_methods import *\n",
    "\n",
    "%store -r"
   ]
  },
  {
   "cell_type": "code",
   "execution_count": null,
   "metadata": {},
   "outputs": [],
   "source": [
    "# #### # UNCOMMENT AND RUN THIS BLOCK OF CODE IF YOU HAVE NOT EXTRACTED MIDI FILES\n",
    "# # FROM GZ FILE\n",
    "\n",
    "# # Download following file at http://hog.ee.columbia.edu/craffel/lmd/lmd_aligned.tar.gz\n",
    "# # Put it in the resources folder!!!\n",
    "\n",
    "# f = tarfile.open(\"resources/lmd_aligned.tar.gz\")\n",
    "# f.extractall()\n",
    "# f.close\n",
    "\n",
    "# # Download following file at http://hog.ee.columbia.edu/craffel/lmd/lmd_matched_h5.tar.gz\n",
    "# # Put it in the resources folder!!!\n",
    "\n",
    "# f = tarfile.open(\"resources/lmd_matched_h5.tar.gz\")\n",
    "# f.extractall()\n",
    "# f.close"
   ]
  },
  {
   "cell_type": "code",
   "execution_count": 9,
   "metadata": {},
   "outputs": [
    {
     "data": {
      "text/plain": [
       "[Instrument(program=33, is_drum=False, name=\"main bass           \"),\n",
       " Instrument(program=0, is_drum=True, name=\"drums + fills       \"),\n",
       " Instrument(program=6, is_drum=False, name=\"harpsichord         \"),\n",
       " Instrument(program=19, is_drum=False, name=\"verse vibe h        \"),\n",
       " Instrument(program=19, is_drum=False, name=\"verse vibe m        \")]"
      ]
     },
     "execution_count": 9,
     "metadata": {},
     "output_type": "execute_result"
    }
   ],
   "source": [
    "# https://github.com/craffel/pretty-midi/blob/main/Tutorial.ipynb\n",
    "\n",
    "# Some song that was extracted\n",
    "test_song_path = 'lmd_matched/A/A/A/TRAAAGR128F425B14B/1d9d16a9da90c090809c153754823c2b.mid'\n",
    "\n",
    "song_pm = pretty_midi.PrettyMIDI(test_song_path)\n",
    "all_instruments = song_pm.instruments\n",
    "# Instrument.program to get program number\n",
    "all_instruments[:5]"
   ]
  },
  {
   "cell_type": "code",
   "execution_count": 10,
   "metadata": {},
   "outputs": [
    {
     "data": {
      "text/plain": [
       "Instrument(program=33, is_drum=False, name=\"main bass           \")"
      ]
     },
     "execution_count": 10,
     "metadata": {},
     "output_type": "execute_result"
    }
   ],
   "source": [
    "# FIrst instrument listed is main synth. Name isnt as important as program number\n",
    "# as name can be assigned to anything.\n",
    "main_synth = all_instruments[0]\n",
    "main_synth"
   ]
  },
  {
   "cell_type": "code",
   "execution_count": 38,
   "metadata": {},
   "outputs": [
    {
     "data": {
      "text/plain": [
       "(Note(start=0.018229, end=0.184896, pitch=69, velocity=100),\n",
       " Note(start=215.851562, end=215.989583, pitch=71, velocity=100))"
      ]
     },
     "execution_count": 38,
     "metadata": {},
     "output_type": "execute_result"
    }
   ],
   "source": [
    "# Get specific notes played for each instrument\n",
    "notes_main_synth = main_synth.notes\n",
    "notes_main_synth[0], notes_main_synth[-1] "
   ]
  },
  {
   "cell_type": "code",
   "execution_count": 11,
   "metadata": {},
   "outputs": [
    {
     "data": {
      "text/plain": [
       "/metadata (Group) 'metadata about the song'\n",
       "  children := ['artist_terms' (EArray), 'artist_terms_freq' (EArray), 'artist_terms_weight' (EArray), 'similar_artists' (EArray), 'songs' (Table)]"
      ]
     },
     "execution_count": 11,
     "metadata": {},
     "output_type": "execute_result"
    }
   ],
   "source": [
    "# Respective song's hdf5 file\n",
    "\n",
    "test_hdf5_path = 'lmd_matched_h5\\A\\A\\A\\TRAAAGR128F425B14B.h5'\n",
    "h5 = GETTERS.open_h5_file_read(test_hdf5_path)\n",
    "# Get song metadata\n",
    "h5.root.metadata"
   ]
  },
  {
   "cell_type": "code",
   "execution_count": 36,
   "metadata": {},
   "outputs": [
    {
     "data": {
      "text/plain": [
       "array([b'Into The Nightlife'], dtype='|S1024')"
      ]
     },
     "execution_count": 36,
     "metadata": {},
     "output_type": "execute_result"
    }
   ],
   "source": [
    "# Get song title\n",
    "h5.root.metadata.songs.cols.title[:]"
   ]
  },
  {
   "cell_type": "code",
   "execution_count": null,
   "metadata": {},
   "outputs": [],
   "source": [
    "# Get album\n",
    "\n",
    "h5.root.metadata.songs.cols.release[:]"
   ]
  },
  {
   "cell_type": "code",
   "execution_count": null,
   "metadata": {},
   "outputs": [],
   "source": [
    "# Get song id. I don't know what the id is referring to (just that dataset or \n",
    "# also a foreign key to another datset)\n",
    "\n",
    "h5.root.metadata.songs.cols.song_id[:]"
   ]
  },
  {
   "cell_type": "code",
   "execution_count": null,
   "metadata": {},
   "outputs": [],
   "source": [
    "# Get song artist\n",
    "\n",
    "h5.root.metadata.songs.cols.artist_name[:]"
   ]
  },
  {
   "cell_type": "code",
   "execution_count": 18,
   "metadata": {},
   "outputs": [
    {
     "data": {
      "text/plain": [
       "array([b''], dtype='|S1024')"
      ]
     },
     "execution_count": 18,
     "metadata": {},
     "output_type": "execute_result"
    }
   ],
   "source": [
    "# Getting genre of a song. If its empty, that means it has no genre assigned in \n",
    "# the dataset, but may still have a genre\n",
    "h5.root.metadata.songs.cols.genre[:]"
   ]
  },
  {
   "cell_type": "code",
   "execution_count": 10,
   "metadata": {},
   "outputs": [],
   "source": [
    "#https://github.com/tbertinmahieux/MSongsDB/blob/master/PythonSrc/hdf5_getters.py"
   ]
  },
  {
   "cell_type": "code",
   "execution_count": null,
   "metadata": {},
   "outputs": [],
   "source": []
  },
  {
   "cell_type": "code",
   "execution_count": null,
   "metadata": {},
   "outputs": [],
   "source": []
  },
  {
   "cell_type": "code",
   "execution_count": 2,
   "metadata": {},
   "outputs": [],
   "source": [
    "import os"
   ]
  },
  {
   "cell_type": "code",
   "execution_count": 3,
   "metadata": {},
   "outputs": [],
   "source": [
    "fp = \"lmd_matched_h5/\"\n",
    "\n",
    "# Metadata filepath for each song\n",
    "metadata = np.array([])\n",
    "\n",
    "# Unnest the three alphabetic directories\n",
    "nest1 = os.listdir(fp)\n",
    "for l1 in nest1:\n",
    "    nest2 = os.listdir(fp + l1)\n",
    "    for l2 in nest2:\n",
    "        nest3 = os.listdir(fp + l1 +\"/\" + l2)\n",
    "        for l3 in nest3:\n",
    "            \n",
    "            # Get all the song's .h5 filepath for this level of nesting\n",
    "            curr_fp = fp + l1 + \"/\" + l2 + \"/\" + l3\n",
    "            files = os.listdir(curr_fp)\n",
    "\n",
    "            # Add them all to our 1d array\n",
    "            for md_f in files:\n",
    "                metadata = np.append(metadata, curr_fp + \"/\" + md_f)\n",
    "                \n",
    "metadata = np.unique(metadata)"
   ]
  },
  {
   "cell_type": "code",
   "execution_count": null,
   "metadata": {},
   "outputs": [],
   "source": []
  },
  {
   "cell_type": "code",
   "execution_count": 12,
   "metadata": {},
   "outputs": [],
   "source": [
    "metadata_sub = np.random.choice(metadata, size=100)"
   ]
  },
  {
   "cell_type": "code",
   "execution_count": 13,
   "metadata": {},
   "outputs": [],
   "source": [
    "f = open('resources/match_scores.json')\n",
    "confidence = json.load(f)"
   ]
  },
  {
   "cell_type": "code",
   "execution_count": 19,
   "metadata": {},
   "outputs": [],
   "source": [
    "data = []\n",
    "\n",
    "# df filepath for our midi files\n",
    "midi_df_fp = \"lmd_aligned/\"\n",
    "\n",
    "# For each song's metadata filepath\n",
    "for md_fp in metadata:\n",
    "\n",
    "    # Read song's .h5 file\n",
    "    song_metadata = GETTERS.open_h5_file_read(md_fp)\n",
    "    \n",
    "    # Extract the song's title as a string\n",
    "    song_name = song_metadata.root.metadata.songs.cols.title[:][0].decode('UTF-8')\n",
    "    \n",
    "    # Extract the song's unique identifier in our dataset\n",
    "    song_id = md_fp.split(\"/\")[-1].split(\".\")[0]\n",
    "    \n",
    "    # Using our confidence data, get the id of midi file that is the best representation of this song \n",
    "    midi_id = max(confidence[song_id], key=confidence[song_id].get)\n",
    "    \n",
    "    # Construct the filepath for the best choice midi file\n",
    "    midi_fp = (midi_df_fp + '/'.join(md_fp.split(\"/\")[1:])).split(\".\")[0] + \"/\" + midi_id + \".mid\"\n",
    "\n",
    "    data.append({\"song_id\": song_id, \"title\": song_name, \"midi_fp\": midi_fp})"
   ]
  },
  {
   "cell_type": "code",
   "execution_count": 36,
   "metadata": {},
   "outputs": [],
   "source": [
    "import pandas as pd"
   ]
  },
  {
   "cell_type": "code",
   "execution_count": 38,
   "metadata": {},
   "outputs": [
    {
     "data": {
      "text/plain": [
       "TRTJAGE12903CB2FB9    3\n",
       "TRTMLGP128F4236493    3\n",
       "TRKTEIH128F14B103E    2\n",
       "TRYHQSB128F4234D80    2\n",
       "TROAPTG12903CBB9A0    2\n",
       "                     ..\n",
       "TRPJRHS12903CFB77F    1\n",
       "TRCOTFH128E078C611    1\n",
       "TRBXIGD128F425FE59    1\n",
       "TRFLZID128F427E1BA    1\n",
       "TRVOIZW128F92E1C8C    1\n",
       "Name: count, Length: 979, dtype: int64"
      ]
     },
     "execution_count": 38,
     "metadata": {},
     "output_type": "execute_result"
    }
   ],
   "source": [
    "pd.Series(np.array([d['song_id'] for d in data])).value_counts()\n",
    "# data"
   ]
  },
  {
   "cell_type": "code",
   "execution_count": 40,
   "metadata": {},
   "outputs": [
    {
     "data": {
      "text/plain": [
       "[{'song_id': 'TRTJAGE12903CB2FB9',\n",
       "  'title': 'Reflections Of My Life',\n",
       "  'midi_fp': 'lmd_matched/T/J/A/TRTJAGE12903CB2FB9/891565c67f84e614e58eb87234848104.mid'},\n",
       " {'song_id': 'TRTJAGE12903CB2FB9',\n",
       "  'title': 'Reflections Of My Life',\n",
       "  'midi_fp': 'lmd_matched/T/J/A/TRTJAGE12903CB2FB9/891565c67f84e614e58eb87234848104.mid'},\n",
       " {'song_id': 'TRTJAGE12903CB2FB9',\n",
       "  'title': 'Reflections Of My Life',\n",
       "  'midi_fp': 'lmd_matched/T/J/A/TRTJAGE12903CB2FB9/891565c67f84e614e58eb87234848104.mid'}]"
      ]
     },
     "execution_count": 40,
     "metadata": {},
     "output_type": "execute_result"
    }
   ],
   "source": [
    "[d for d in data if d['song_id']==\"TRTJAGE12903CB2FB9\"]"
   ]
  },
  {
   "cell_type": "code",
   "execution_count": null,
   "metadata": {},
   "outputs": [],
   "source": []
  },
  {
   "cell_type": "code",
   "execution_count": null,
   "metadata": {},
   "outputs": [],
   "source": []
  }
 ],
 "metadata": {
  "kernelspec": {
   "display_name": "tf_gpu",
   "language": "python",
   "name": "tf_gpu"
  },
  "language_info": {
   "codemirror_mode": {
    "name": "ipython",
    "version": 3
   },
   "file_extension": ".py",
   "mimetype": "text/x-python",
   "name": "python",
   "nbconvert_exporter": "python",
   "pygments_lexer": "ipython3",
   "version": "3.10.13"
  }
 },
 "nbformat": 4,
 "nbformat_minor": 2
}
