{
 "cells": [
  {
   "cell_type": "code",
   "execution_count": 11,
   "metadata": {},
   "outputs": [],
   "source": [
    "import json\n",
    "from collections import defaultdict\n",
    "from sklearn import linear_model, model_selection\n",
    "import numpy as np\n",
    "import random\n",
    "import gzip\n",
    "import dateutil.parser\n",
    "import math\n",
    "import mido\n",
    "import pretty_midi\n",
    "import joblib\n",
    "import glob\n",
    "import matplotlib.pyplot as plt\n",
    "import seaborn as sns\n",
    "import matplotlib.gridspec\n",
    "import collections\n",
    "import os\n",
    "import tarfile\n",
    "import tables\n",
    "import hdf5_getters as GETTERS\n",
    "from midi_methods import *\n",
    "import h5py\n",
    "\n",
    "# %store -r"
   ]
  },
  {
   "cell_type": "code",
   "execution_count": 2,
   "metadata": {},
   "outputs": [],
   "source": [
    "\n",
    "# # UNCOMMENT AND RUN THIS BLOCK OF CODE IF YOU HAVE NOT EXTRACTED MIDI FILES\n",
    "# # FROM GZ FILE\n",
    "\n",
    "# # Download following file at http://hog.ee.columbia.edu/craffel/lmd/lmd_aligned.tar.gz\n",
    "# # Put it in the resources folder!!!\n",
    "\n",
    "# f = tarfile.open(\"../sandbox/lmd_matched.tar.gz\")\n",
    "# f.extractall()\n",
    "# f.close\n",
    "\n",
    "# # Download following file at http://hog.ee.columbia.edu/craffel/lmd/lmd_matched_h5.tar.gz\n",
    "# # Put it in the resources folder!!!\n",
    "\n",
    "# f = tarfile.open(\"../sandbox/lmd_matched_h5.tar.gz\")\n",
    "# f.extractall()\n",
    "# f.close"
   ]
  },
  {
   "cell_type": "code",
   "execution_count": 3,
   "metadata": {},
   "outputs": [
    {
     "data": {
      "text/plain": [
       "[Instrument(program=62, is_drum=False, name=\"main synth          \"),\n",
       " Instrument(program=62, is_drum=False, name=\"echo synth          \"),\n",
       " Instrument(program=48, is_drum=False, name=\"main strings h      \"),\n",
       " Instrument(program=48, is_drum=False, name=\"main strings m      \"),\n",
       " Instrument(program=48, is_drum=False, name=\"main strings l      \")]"
      ]
     },
     "execution_count": 3,
     "metadata": {},
     "output_type": "execute_result"
    }
   ],
   "source": [
    "# https://github.com/craffel/pretty-midi/blob/main/Tutorial.ipynb\n",
    "\n",
    "# Some song that was extracted\n",
    "test_song_path = '../lmd_unwrapped_files/lmd_matched/A/A/A/TRAAAGR128F425B14B/1d9d16a9da90c090809c153754823c2b.mid'\n",
    "\n",
    "song_pm = pretty_midi.PrettyMIDI(test_song_path)\n",
    "all_instruments = song_pm.instruments\n",
    "# Instrument.program to get program number\n",
    "all_instruments[:5]"
   ]
  },
  {
   "cell_type": "code",
   "execution_count": 4,
   "metadata": {},
   "outputs": [
    {
     "data": {
      "text/plain": [
       "[Instrument(program=62, is_drum=False, name=\"main synth          \"),\n",
       " Instrument(program=62, is_drum=False, name=\"echo synth          \"),\n",
       " Instrument(program=48, is_drum=False, name=\"main strings h      \"),\n",
       " Instrument(program=48, is_drum=False, name=\"main strings m      \"),\n",
       " Instrument(program=48, is_drum=False, name=\"main strings l      \"),\n",
       " Instrument(program=33, is_drum=False, name=\"main bass           \"),\n",
       " Instrument(program=0, is_drum=True, name=\"drums + fills       \"),\n",
       " Instrument(program=14, is_drum=False, name=\"xtras               \"),\n",
       " Instrument(program=6, is_drum=False, name=\"harpsichord         \"),\n",
       " Instrument(program=19, is_drum=False, name=\"verse vibe h        \"),\n",
       " Instrument(program=19, is_drum=False, name=\"verse vibe m        \"),\n",
       " Instrument(program=19, is_drum=False, name=\"verse vibe l        \"),\n",
       " Instrument(program=1, is_drum=False, name=\"verse piano         \"),\n",
       " Instrument(program=64, is_drum=False, name=\"verse xtra          \"),\n",
       " Instrument(program=48, is_drum=False, name=\"end string h        \"),\n",
       " Instrument(program=1, is_drum=False, name=\"voice               \"),\n",
       " Instrument(program=55, is_drum=False, name=\"orchestra hit       \")]"
      ]
     },
     "execution_count": 4,
     "metadata": {},
     "output_type": "execute_result"
    }
   ],
   "source": [
    "song_pm.instruments"
   ]
  },
  {
   "cell_type": "code",
   "execution_count": 5,
   "metadata": {},
   "outputs": [
    {
     "data": {
      "text/plain": [
       "Instrument(program=62, is_drum=False, name=\"main synth          \")"
      ]
     },
     "execution_count": 5,
     "metadata": {},
     "output_type": "execute_result"
    }
   ],
   "source": [
    "# FIrst instrument listed is main synth. Name isnt as important as program number\n",
    "# as name can be assigned to anything.\n",
    "main_synth = all_instruments[0]\n",
    "main_synth"
   ]
  },
  {
   "cell_type": "code",
   "execution_count": 6,
   "metadata": {},
   "outputs": [
    {
     "data": {
      "text/plain": [
       "(Note(start=0.018229, end=0.184896, pitch=69, velocity=100),\n",
       " Note(start=215.851562, end=215.989583, pitch=71, velocity=100))"
      ]
     },
     "execution_count": 6,
     "metadata": {},
     "output_type": "execute_result"
    }
   ],
   "source": [
    "# Get specific notes played for each instrument\n",
    "notes_main_synth = main_synth.notes\n",
    "notes_main_synth[0], notes_main_synth[-1] "
   ]
  },
  {
   "cell_type": "code",
   "execution_count": 64,
   "metadata": {},
   "outputs": [
    {
     "data": {
      "text/plain": [
       "array([b'classic pop and rock'], dtype='|S256')"
      ]
     },
     "execution_count": 64,
     "metadata": {},
     "output_type": "execute_result"
    }
   ],
   "source": [
    "# Respective song's hdf5 file\n",
    "\n",
    "test_hdf5_path = '../lmd_unwrapped_files/lmd_matched_h5\\A\\A\\A\\TRAAAGR128F425B14B.h5'\n",
    "h5 = GETTERS.open_h5_file_read(test_hdf5_path)\n",
    "# Get song metadata\n",
    "h5.root.metadata    "
   ]
  },
  {
   "cell_type": "code",
   "execution_count": 61,
   "metadata": {},
   "outputs": [
    {
     "data": {
      "text/plain": [
       "'Into The Nightlife'"
      ]
     },
     "execution_count": 61,
     "metadata": {},
     "output_type": "execute_result"
    }
   ],
   "source": [
    "h5.root.metadata.songs.cols.title[:][0].decode('utf-8') "
   ]
  },
  {
   "cell_type": "code",
   "execution_count": 12,
   "metadata": {},
   "outputs": [
    {
     "data": {
      "text/plain": [
       "array([b'Into The Nightlife'], dtype='|S1024')"
      ]
     },
     "execution_count": 12,
     "metadata": {},
     "output_type": "execute_result"
    }
   ],
   "source": [
    "# Get song title\n",
    "h5.root.metadata.songs.cols.title[:]"
   ]
  },
  {
   "cell_type": "code",
   "execution_count": 71,
   "metadata": {},
   "outputs": [
    {
     "data": {
      "text/plain": [
       "array([b'Bring Ya To The Brink'], dtype='|S1024')"
      ]
     },
     "execution_count": 71,
     "metadata": {},
     "output_type": "execute_result"
    }
   ],
   "source": [
    "# Get album\n",
    "\n",
    "h5.root.metadata.songs.cols.release[:]"
   ]
  },
  {
   "cell_type": "code",
   "execution_count": 14,
   "metadata": {},
   "outputs": [
    {
     "data": {
      "text/plain": [
       "array([b'SONRWUU12AF72A4283'], dtype='|S32')"
      ]
     },
     "execution_count": 14,
     "metadata": {},
     "output_type": "execute_result"
    }
   ],
   "source": [
    "# Get song id. I don't know what the id is referring to (just that dataset or \n",
    "# also a foreign key to another datset)\n",
    "\n",
    "h5.root.metadata.songs.cols.song_id[:]"
   ]
  },
  {
   "cell_type": "code",
   "execution_count": 15,
   "metadata": {},
   "outputs": [
    {
     "data": {
      "text/plain": [
       "array([b'Cyndi Lauper'], dtype='|S1024')"
      ]
     },
     "execution_count": 15,
     "metadata": {},
     "output_type": "execute_result"
    }
   ],
   "source": [
    "# Get song artist\n",
    "\n",
    "h5.root.metadata.songs.cols.artist_name[:]"
   ]
  },
  {
   "cell_type": "code",
   "execution_count": 16,
   "metadata": {},
   "outputs": [
    {
     "data": {
      "text/plain": [
       "array([b''], dtype='|S1024')"
      ]
     },
     "execution_count": 16,
     "metadata": {},
     "output_type": "execute_result"
    }
   ],
   "source": [
    "# Getting genre of a song. If its empty, that means it has no genre assigned in \n",
    "# the dataset, but may still have a genre\n",
    "h5.root.metadata.songs.cols.genre[:]"
   ]
  },
  {
   "cell_type": "code",
   "execution_count": 70,
   "metadata": {},
   "outputs": [
    {
     "data": {
      "text/plain": [
       "array([b'classic pop and rock'], dtype='|S256')"
      ]
     },
     "execution_count": 70,
     "metadata": {},
     "output_type": "execute_result"
    }
   ],
   "source": [
    "# get tag info : lmd_matched_h5 has data associated with MB metadata\n",
    "h5.root.musicbrainz.artist_mbtags[:]"
   ]
  },
  {
   "cell_type": "code",
   "execution_count": 17,
   "metadata": {},
   "outputs": [],
   "source": [
    "#https://github.com/tbertinmahieux/MSongsDB/blob/master/PythonSrc/hdf5_getters.py"
   ]
  }
 ],
 "metadata": {
  "kernelspec": {
   "display_name": "dsc",
   "language": "python",
   "name": "python3"
  },
  "language_info": {
   "codemirror_mode": {
    "name": "ipython",
    "version": 3
   },
   "file_extension": ".py",
   "mimetype": "text/x-python",
   "name": "python",
   "nbconvert_exporter": "python",
   "pygments_lexer": "ipython3",
   "version": "3.9.10"
  }
 },
 "nbformat": 4,
 "nbformat_minor": 2
}
