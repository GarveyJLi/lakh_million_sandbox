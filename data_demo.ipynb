{
 "cells": [
  {
   "cell_type": "code",
   "execution_count": 1,
   "metadata": {},
   "outputs": [],
   "source": [
    "import json\n",
    "from collections import defaultdict\n",
    "from sklearn import linear_model, model_selection\n",
    "import numpy as np\n",
    "import random\n",
    "import gzip\n",
    "import dateutil.parser\n",
    "import math\n",
    "import mido\n",
    "import pretty_midi\n",
    "import joblib\n",
    "import glob\n",
    "import matplotlib.pyplot as plt\n",
    "import seaborn as sns\n",
    "import matplotlib.gridspec\n",
    "import collections\n",
    "import os\n",
    "import tarfile\n",
    "import tables\n",
    "import hdf5_getters as GETTERS\n",
    "from midi_methods import *\n",
    "\n",
    "%store -r"
   ]
  },
  {
   "cell_type": "code",
   "execution_count": 2,
   "metadata": {},
   "outputs": [
    {
     "data": {
      "text/plain": [
       "'\\n# UNCOMMENT AND RUN THIS BLOCK OF CODE IF YOU HAVE NOT EXTRACTED MIDI FILES\\n# FROM GZ FILE\\n\\n# Download following file at http://hog.ee.columbia.edu/craffel/lmd/lmd_aligned.tar.gz\\n# Put it in the resources folder!!!\\n\\nf = tarfile.open(\"resources/lmd_matched.tar.gz\")\\nf.extractall()\\nf.close\\n\\n# Download following file at http://hog.ee.columbia.edu/craffel/lmd/lmd_matched_h5.tar.gz\\n# Put it in the resources folder!!!\\n\\nf = tarfile.open(\"resources/lmd_matched_h5.tar.gz\")\\nf.extractall()\\nf.close\\n'"
      ]
     },
     "execution_count": 2,
     "metadata": {},
     "output_type": "execute_result"
    }
   ],
   "source": [
    "\"\"\"\n",
    "# UNCOMMENT AND RUN THIS BLOCK OF CODE IF YOU HAVE NOT EXTRACTED MIDI FILES\n",
    "# FROM GZ FILE\n",
    "\n",
    "# Download following file at http://hog.ee.columbia.edu/craffel/lmd/lmd_aligned.tar.gz\n",
    "# Put it in the resources folder!!!\n",
    "\n",
    "f = tarfile.open(\"resources/lmd_matched.tar.gz\")\n",
    "f.extractall()\n",
    "f.close\n",
    "\n",
    "# Download following file at http://hog.ee.columbia.edu/craffel/lmd/lmd_matched_h5.tar.gz\n",
    "# Put it in the resources folder!!!\n",
    "\n",
    "f = tarfile.open(\"resources/lmd_matched_h5.tar.gz\")\n",
    "f.extractall()\n",
    "f.close\n",
    "\"\"\"\n",
    "\n"
   ]
  },
  {
   "cell_type": "code",
   "execution_count": 15,
   "metadata": {},
   "outputs": [
    {
     "data": {
      "text/plain": [
       "[Instrument(program=62, is_drum=False, name=\"main synth          \"),\n",
       " Instrument(program=62, is_drum=False, name=\"echo synth          \"),\n",
       " Instrument(program=48, is_drum=False, name=\"main strings h      \"),\n",
       " Instrument(program=48, is_drum=False, name=\"main strings m      \"),\n",
       " Instrument(program=48, is_drum=False, name=\"main strings l      \"),\n",
       " Instrument(program=33, is_drum=False, name=\"main bass           \"),\n",
       " Instrument(program=0, is_drum=True, name=\"drums + fills       \"),\n",
       " Instrument(program=14, is_drum=False, name=\"xtras               \"),\n",
       " Instrument(program=6, is_drum=False, name=\"harpsichord         \"),\n",
       " Instrument(program=19, is_drum=False, name=\"verse vibe h        \"),\n",
       " Instrument(program=19, is_drum=False, name=\"verse vibe m        \"),\n",
       " Instrument(program=19, is_drum=False, name=\"verse vibe l        \"),\n",
       " Instrument(program=1, is_drum=False, name=\"verse piano         \"),\n",
       " Instrument(program=64, is_drum=False, name=\"verse xtra          \"),\n",
       " Instrument(program=48, is_drum=False, name=\"end string h        \"),\n",
       " Instrument(program=1, is_drum=False, name=\"voice               \"),\n",
       " Instrument(program=55, is_drum=False, name=\"orchestra hit       \")]"
      ]
     },
     "execution_count": 15,
     "metadata": {},
     "output_type": "execute_result"
    }
   ],
   "source": [
    "# https://github.com/craffel/pretty-midi/blob/main/Tutorial.ipynb\n",
    "\n",
    "# Some song that was extracted\n",
    "test_song_path = 'lmd_matched/A/A/A/TRAAAGR128F425B14B/1d9d16a9da90c090809c153754823c2b.mid'\n",
    "\n",
    "song_pm = pretty_midi.PrettyMIDI(test_song_path)\n",
    "all_instruments = song_pm.instruments\n",
    "# Instrument.program to get program number\n",
    "all_instruments\n"
   ]
  },
  {
   "cell_type": "code",
   "execution_count": 4,
   "metadata": {},
   "outputs": [
    {
     "data": {
      "text/plain": [
       "['resolution',\n",
       " '_tick_scales',\n",
       " '_PrettyMIDI__tick_to_time',\n",
       " 'key_signature_changes',\n",
       " 'time_signature_changes',\n",
       " 'lyrics',\n",
       " 'text_events',\n",
       " 'instruments',\n",
       " '__module__',\n",
       " '__doc__',\n",
       " '__init__',\n",
       " '_load_tempo_changes',\n",
       " '_load_metadata',\n",
       " '_update_tick_to_time',\n",
       " '_load_instruments',\n",
       " 'get_tempo_changes',\n",
       " 'get_end_time',\n",
       " 'estimate_tempi',\n",
       " 'estimate_tempo',\n",
       " 'get_beats',\n",
       " 'estimate_beat_start',\n",
       " 'get_downbeats',\n",
       " 'get_onsets',\n",
       " 'get_piano_roll',\n",
       " 'get_pitch_class_histogram',\n",
       " 'get_pitch_class_transition_matrix',\n",
       " 'get_chroma',\n",
       " 'synthesize',\n",
       " 'fluidsynth',\n",
       " 'tick_to_time',\n",
       " 'time_to_tick',\n",
       " 'adjust_times',\n",
       " 'remove_invalid_notes',\n",
       " 'write',\n",
       " '__dict__',\n",
       " '__weakref__',\n",
       " '__new__',\n",
       " '__repr__',\n",
       " '__hash__',\n",
       " '__str__',\n",
       " '__getattribute__',\n",
       " '__setattr__',\n",
       " '__delattr__',\n",
       " '__lt__',\n",
       " '__le__',\n",
       " '__eq__',\n",
       " '__ne__',\n",
       " '__gt__',\n",
       " '__ge__',\n",
       " '__reduce_ex__',\n",
       " '__reduce__',\n",
       " '__subclasshook__',\n",
       " '__init_subclass__',\n",
       " '__format__',\n",
       " '__sizeof__',\n",
       " '__dir__',\n",
       " '__class__']"
      ]
     },
     "execution_count": 4,
     "metadata": {},
     "output_type": "execute_result"
    }
   ],
   "source": [
    "# To look at all attributes available for a midi file\n",
    "song_pm.__dir__()"
   ]
  },
  {
   "cell_type": "code",
   "execution_count": 5,
   "metadata": {},
   "outputs": [
    {
     "data": {
      "text/plain": [
       "Instrument(program=62, is_drum=False, name=\"main synth          \")"
      ]
     },
     "execution_count": 5,
     "metadata": {},
     "output_type": "execute_result"
    }
   ],
   "source": [
    "# FIrst instrument listed is main synth. Name isnt as important as program number\n",
    "# as name can be assigned to anything.\n",
    "main_synth = all_instruments[0]\n",
    "main_synth"
   ]
  },
  {
   "cell_type": "code",
   "execution_count": 17,
   "metadata": {},
   "outputs": [
    {
     "data": {
      "text/plain": [
       "(Note(start=0.018229, end=0.184896, pitch=69, velocity=100),\n",
       " Note(start=215.851562, end=215.989583, pitch=71, velocity=100))"
      ]
     },
     "execution_count": 17,
     "metadata": {},
     "output_type": "execute_result"
    }
   ],
   "source": [
    "# Get specific notes played for each instrument\n",
    "notes_main_synth = main_synth.notes\n",
    "notes_main_synth[0], notes_main_synth[-1]"
   ]
  },
  {
   "cell_type": "code",
   "execution_count": 7,
   "metadata": {},
   "outputs": [
    {
     "data": {
      "text/plain": [
       "/metadata (Group) 'metadata about the song'\n",
       "  children := ['artist_terms' (EArray), 'artist_terms_freq' (EArray), 'artist_terms_weight' (EArray), 'similar_artists' (EArray), 'songs' (Table)]"
      ]
     },
     "execution_count": 7,
     "metadata": {},
     "output_type": "execute_result"
    }
   ],
   "source": [
    "# Respective song's hdf5 file\n",
    "\n",
    "test_hdf5_path = 'lmd_matched_h5\\A\\A\\A\\TRAAAGR128F425B14B.h5'\n",
    "h5 = GETTERS.open_h5_file_read(test_hdf5_path)\n",
    "# Get song metadata\n",
    "h5.root.metadata"
   ]
  },
  {
   "cell_type": "code",
   "execution_count": 8,
   "metadata": {},
   "outputs": [
    {
     "data": {
      "text/plain": [
       "array([b'Into The Nightlife'], dtype='|S1024')"
      ]
     },
     "execution_count": 8,
     "metadata": {},
     "output_type": "execute_result"
    }
   ],
   "source": [
    "# Get song title\n",
    "h5.root.metadata.songs.cols.title[:]"
   ]
  },
  {
   "cell_type": "code",
   "execution_count": 9,
   "metadata": {},
   "outputs": [
    {
     "data": {
      "text/plain": [
       "array([b'Bring Ya To The Brink'], dtype='|S1024')"
      ]
     },
     "execution_count": 9,
     "metadata": {},
     "output_type": "execute_result"
    }
   ],
   "source": [
    "# Get album\n",
    "\n",
    "h5.root.metadata.songs.cols.release[:]"
   ]
  },
  {
   "cell_type": "code",
   "execution_count": 10,
   "metadata": {},
   "outputs": [
    {
     "data": {
      "text/plain": [
       "array([b'SONRWUU12AF72A4283'], dtype='|S32')"
      ]
     },
     "execution_count": 10,
     "metadata": {},
     "output_type": "execute_result"
    }
   ],
   "source": [
    "# Get song id. I don't know what the id is referring to (just that dataset or \n",
    "# also a foreign key to another datset)\n",
    "\n",
    "h5.root.metadata.songs.cols.song_id[:]"
   ]
  },
  {
   "cell_type": "code",
   "execution_count": 14,
   "metadata": {},
   "outputs": [
    {
     "data": {
      "text/plain": [
       "'Cyndi Lauper'"
      ]
     },
     "execution_count": 14,
     "metadata": {},
     "output_type": "execute_result"
    }
   ],
   "source": [
    "# Get song artist\n",
    "\n",
    "h5.root.metadata.songs.cols.artist_name[0].decode('utf-8')"
   ]
  },
  {
   "cell_type": "code",
   "execution_count": 12,
   "metadata": {},
   "outputs": [
    {
     "data": {
      "text/plain": [
       "array([b''], dtype='|S1024')"
      ]
     },
     "execution_count": 12,
     "metadata": {},
     "output_type": "execute_result"
    }
   ],
   "source": [
    "# Getting genre of a song. If its empty, that means it has no genre assigned in \n",
    "# the dataset, but may still have a genre\n",
    "h5.root.metadata.songs.cols.genre[:]"
   ]
  },
  {
   "cell_type": "code",
   "execution_count": 13,
   "metadata": {},
   "outputs": [],
   "source": [
    "#https://github.com/tbertinmahieux/MSongsDB/blob/master/PythonSrc/hdf5_getters.py"
   ]
  },
  {
   "cell_type": "code",
   "execution_count": 22,
   "metadata": {},
   "outputs": [
    {
     "data": {
      "text/plain": [
       "/musicbrainz/artist_mbtags (EArray(1,)shuffle, zlib(1)) 'array of tags from MusicBrainz for an artist'\n",
       "  atom := StringAtom(itemsize=256, shape=(), dflt=b'')\n",
       "  maindim := 0\n",
       "  flavor := 'numpy'\n",
       "  byteorder := 'irrelevant'\n",
       "  chunkshape := (32,)"
      ]
     },
     "execution_count": 22,
     "metadata": {},
     "output_type": "execute_result"
    }
   ],
   "source": [
    "# Music Brainz?\n",
    "h5.root.musicbrainz.artist_mbtags"
   ]
  },
  {
   "cell_type": "code",
   "execution_count": null,
   "metadata": {},
   "outputs": [],
   "source": []
  }
 ],
 "metadata": {
  "kernelspec": {
   "display_name": "dsc",
   "language": "python",
   "name": "python3"
  },
  "language_info": {
   "codemirror_mode": {
    "name": "ipython",
    "version": 3
   },
   "file_extension": ".py",
   "mimetype": "text/x-python",
   "name": "python",
   "nbconvert_exporter": "python",
   "pygments_lexer": "ipython3",
   "version": "3.10.13"
  }
 },
 "nbformat": 4,
 "nbformat_minor": 2
}
