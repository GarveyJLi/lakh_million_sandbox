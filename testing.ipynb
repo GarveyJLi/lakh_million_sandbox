{
 "cells": [
  {
   "cell_type": "code",
   "execution_count": 6,
   "metadata": {},
   "outputs": [],
   "source": [
    "import json\n",
    "from collections import defaultdict\n",
    "from sklearn import linear_model, model_selection\n",
    "import numpy as np\n",
    "import random\n",
    "import gzip\n",
    "import dateutil.parser\n",
    "import math\n",
    "import mido\n",
    "import pretty_midi\n",
    "import joblib\n",
    "import glob\n",
    "import matplotlib.pyplot as plt\n",
    "import seaborn as sns\n",
    "import matplotlib.gridspec\n",
    "import collections\n",
    "import os\n",
    "import tarfile\n",
    "from midi_methods import *\n",
    "\n",
    "%store -r"
   ]
  },
  {
   "cell_type": "code",
   "execution_count": 7,
   "metadata": {},
   "outputs": [
    {
     "data": {
      "text/plain": [
       "'\\nf = tarfile.open(\"resources/lmd_matched.tar.gz\")\\nf.extractall()\\nf.close\\n'"
      ]
     },
     "execution_count": 7,
     "metadata": {},
     "output_type": "execute_result"
    }
   ],
   "source": [
    "\"\"\"\n",
    "f = tarfile.open(\"resources/lmd_matched.tar.gz\")\n",
    "f.extractall()\n",
    "f.close\n",
    "\"\"\"\n",
    "\n"
   ]
  },
  {
   "cell_type": "code",
   "execution_count": 12,
   "metadata": {},
   "outputs": [
    {
     "data": {
      "text/plain": [
       "[Instrument(program=62, is_drum=False, name=\"main synth          \"),\n",
       " Instrument(program=62, is_drum=False, name=\"echo synth          \"),\n",
       " Instrument(program=48, is_drum=False, name=\"main strings h      \"),\n",
       " Instrument(program=48, is_drum=False, name=\"main strings m      \"),\n",
       " Instrument(program=48, is_drum=False, name=\"main strings l      \"),\n",
       " Instrument(program=33, is_drum=False, name=\"main bass           \"),\n",
       " Instrument(program=0, is_drum=True, name=\"drums + fills       \"),\n",
       " Instrument(program=14, is_drum=False, name=\"xtras               \"),\n",
       " Instrument(program=6, is_drum=False, name=\"harpsichord         \"),\n",
       " Instrument(program=19, is_drum=False, name=\"verse vibe h        \"),\n",
       " Instrument(program=19, is_drum=False, name=\"verse vibe m        \"),\n",
       " Instrument(program=19, is_drum=False, name=\"verse vibe l        \"),\n",
       " Instrument(program=1, is_drum=False, name=\"verse piano         \"),\n",
       " Instrument(program=64, is_drum=False, name=\"verse xtra          \"),\n",
       " Instrument(program=48, is_drum=False, name=\"end string h        \"),\n",
       " Instrument(program=1, is_drum=False, name=\"voice               \"),\n",
       " Instrument(program=55, is_drum=False, name=\"orchestra hit       \")]"
      ]
     },
     "execution_count": 12,
     "metadata": {},
     "output_type": "execute_result"
    }
   ],
   "source": [
    "# https://github.com/craffel/pretty-midi/blob/main/Tutorial.ipynb\n",
    "test_song_path = 'lmd_matched/A/A/A/TRAAAGR128F425B14B/1d9d16a9da90c090809c153754823c2b.mid'\n",
    "song_pm = pretty_midi.PrettyMIDI(test_song_path)\n",
    "song_pm.instruments\n"
   ]
  },
  {
   "cell_type": "code",
   "execution_count": null,
   "metadata": {},
   "outputs": [],
   "source": []
  }
 ],
 "metadata": {
  "kernelspec": {
   "display_name": "dsc",
   "language": "python",
   "name": "python3"
  },
  "language_info": {
   "codemirror_mode": {
    "name": "ipython",
    "version": 3
   },
   "file_extension": ".py",
   "mimetype": "text/x-python",
   "name": "python",
   "nbconvert_exporter": "python",
   "pygments_lexer": "ipython3",
   "version": "3.10.13"
  }
 },
 "nbformat": 4,
 "nbformat_minor": 2
}
