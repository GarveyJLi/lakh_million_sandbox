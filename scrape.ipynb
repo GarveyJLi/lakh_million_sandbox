{
 "cells": [
  {
   "cell_type": "code",
   "execution_count": 1,
   "metadata": {},
   "outputs": [],
   "source": [
    "import requests as re\n",
    "import hdf5_getters as GETTERS\n",
    "from midi_methods import *\n",
    "from collections import defaultdict\n",
    "from sklearn import linear_model, model_selection\n",
    "import numpy as np\n",
    "import json\n",
    "import os \n"
   ]
  },
  {
   "cell_type": "code",
   "execution_count": 5,
   "metadata": {},
   "outputs": [
    {
     "name": "stdout",
     "output_type": "stream",
     "text": [
      "['rock', 'electronic', 'future jazz', 'downtempo', 'pop rock', 'alternative rock', 'thrash', 'dubstep', 'deep house', 'house']\n"
     ]
    }
   ],
   "source": [
    "headers = {\n",
    "    'User-Agent': 'Mozilla/5.0 (Windows NT 10.0; WOW64) AppleWebKit/537.36 (KHTML, like Gecko) Chrome/109.0.0.0 Safari/537.36',\n",
    "    'From': os.environ.get('MB_USER')\n",
    "}\n",
    "\n",
    "\n",
    "def create_query(artist, song, top_genre_count=1):  # return N most common genres for the song, N=top_genre_count \n",
    "    mb_url = \"https://musicbrainz.org/ws/2/release-group\"\n",
    "    \n",
    "    params = {\n",
    "        'query': f'artist:\"{artist}\" AND recording:\"{song}\"\"?inc=genres',\n",
    "        'fmt': 'json',\n",
    "    }\n",
    "\n",
    "    response = re.get(mb_url, params=params)    # GET request\n",
    "\n",
    "    if response.status_code != 200: \n",
    "        print(f\"Error for query <{artist}, {song}>: {response.status_code}\")\n",
    "        return None\n",
    "    \n",
    "    data = response.json()\n",
    "    genres = defaultdict(int)   # key: genre, value: number of votes (# labels applied) for that genre\n",
    "\n",
    "    if not data['release-groups']:  # assert not empty\n",
    "        print(f\"No valid release groups for <{artist}, {song}> found\")\n",
    "        return None \n",
    "\n",
    "    for i in range(len(data['release-groups'])):    # scum\n",
    "        if 'tags' in data['release-groups'][i] and data['release-groups'][i]['tags']:\n",
    "            for tag in data['release-groups'][i]['tags']:\n",
    "                genres[tag['name']] += tag['count']\n",
    "\n",
    "    if not genres:  # assert not empty\n",
    "        print(f\"No valid tags for <{artist}, {song}> found\")\n",
    "        return None \n",
    "\n",
    "    sorted_genres = sorted(genres, key=genres.get, reverse=True)[:top_genre_count]  # get N most upvoted genres\n",
    "    return sorted_genres\n",
    "\n",
    "\n",
    "test_release = 'cold weather'\n",
    "test_artist = 'glass beach'\n",
    "print(create_query(test_artist, test_release, 10))\n"
   ]
  },
  {
   "cell_type": "code",
   "execution_count": 7,
   "metadata": {},
   "outputs": [
    {
     "name": "stdout",
     "output_type": "stream",
     "text": [
      "Million Song Dataset ID TRRNARX128F4264AEB has 1 MIDI file matches:\n",
      " cd3b9c8bb118575bcd712cffdba85fce with confidence score 0.7040202098544246\n"
     ]
    }
   ],
   "source": [
    "SCORE_FILE = os.path.join('../lmd_unwrapped_files/', 'match_scores.json')\n",
    "\n",
    "with open(SCORE_FILE) as f:\n",
    "    scores = json.load(f)\n",
    "# Grab a Million Song Dataset ID from the scores dictionary\n",
    "msd_id = list(scores.keys())[0]\n",
    "print(f'Million Song Dataset ID {msd_id} has {len(scores[msd_id])} MIDI file matches:')\n",
    "for midi_md5, score in scores[msd_id].items():\n",
    "    print( f' {midi_md5} with confidence score {score}')"
   ]
  },
  {
   "cell_type": "code",
   "execution_count": 11,
   "metadata": {},
   "outputs": [
    {
     "data": {
      "text/plain": [
       "{'6823b02109f413f9a377f76f510d1854': 0.7466964399978611}"
      ]
     },
     "execution_count": 11,
     "metadata": {},
     "output_type": "execute_result"
    }
   ],
   "source": [
    "msd_id = list(scores.keys())[-1]\n",
    "scores[msd_id]"
   ]
  }
 ],
 "metadata": {
  "kernelspec": {
   "display_name": ".cogsenv",
   "language": "python",
   "name": "python3"
  },
  "language_info": {
   "codemirror_mode": {
    "name": "ipython",
    "version": 3
   },
   "file_extension": ".py",
   "mimetype": "text/x-python",
   "name": "python",
   "nbconvert_exporter": "python",
   "pygments_lexer": "ipython3",
   "version": "3.9.10"
  }
 },
 "nbformat": 4,
 "nbformat_minor": 2
}
