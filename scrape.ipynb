{
 "cells": [
  {
   "cell_type": "code",
   "execution_count": 13,
   "metadata": {},
   "outputs": [
    {
     "data": {
      "text/plain": [
       "'\\nTODO: start with match.json, then see if file recursion is ok\\n    1. create a query for a midi file\\n    2. send query to musicbrainz and parse JSON\\n    3. write to a pandas dataframe with the form [midi filename, genre]\\n'"
      ]
     },
     "execution_count": 13,
     "metadata": {},
     "output_type": "execute_result"
    }
   ],
   "source": [
    "import requests as re\n",
    "import hdf5_getters as GETTERS\n",
    "from midi_methods import *\n",
    "from collections import defaultdict\n",
    "from sklearn import linear_model, model_selection\n",
    "import numpy as np\n",
    "import json\n",
    "import os \n",
    "import h5py\n",
    "import tables\n"
   ]
  },
  {
   "cell_type": "code",
   "execution_count": 26,
   "metadata": {},
   "outputs": [
    {
     "name": "stdout",
     "output_type": "stream",
     "text": [
      "['rock', 'electronic', 'future jazz', 'downtempo', 'pop rock', 'alternative rock', 'thrash', 'dubstep', 'deep house', 'house']\n"
     ]
    }
   ],
   "source": [
    "headers = {\n",
    "    'User-Agent': 'Mozilla/5.0 (Windows NT 10.0; WOW64) AppleWebKit/537.36 (KHTML, like Gecko) Chrome/109.0.0.0 Safari/537.36',\n",
    "    'From': 'placeholder'  # TODO: replace this with your MB email\n",
    "}\n",
    "\n",
    "\n",
    "def get_genre(artist, song, top_genre_count=1):  \n",
    "    \"\"\" \n",
    "    get_genre makes a MB query and return N most common genres for the song, N=top_genre_count \n",
    "    artist: string\n",
    "    song: string \n",
    "    top_genre_count: the number of genres to return, in descending order from most to least common\n",
    "    \"\"\"\n",
    "    mb_url = \"https://musicbrainz.org/ws/2/release-group\"\n",
    "    \n",
    "    params = {\n",
    "        'query': f'artist:\"{artist}\" AND recording:\"{song}\"\"?inc=genres',\n",
    "        'fmt': 'json',\n",
    "    }\n",
    "\n",
    "    response = re.get(mb_url, params=params)    # GET request\n",
    "\n",
    "    if response.status_code != 200: \n",
    "        print(f\"Error for query <{artist}, {song}>: {response.status_code}\")\n",
    "        return None\n",
    "    \n",
    "    data = response.json()\n",
    "    genres = defaultdict(int)   # key: genre, value: number of votes (# labels applied) for that genre\n",
    "\n",
    "    if not data['release-groups']:  # assert not empty\n",
    "        print(f\"No valid release groups for <{artist}, {song}> found\")\n",
    "        return None \n",
    "\n",
    "    for i in range(len(data['release-groups'])):    # scum\n",
    "        if 'tags' in data['release-groups'][i] and data['release-groups'][i]['tags']:\n",
    "            for tag in data['release-groups'][i]['tags']:\n",
    "                genres[tag['name']] += tag['count']\n",
    "\n",
    "    if not genres:  # assert not empty\n",
    "        print(f\"No valid tags for <{artist}, {song}> found, skipping\")\n",
    "        return None \n",
    "\n",
    "    sorted_genres = sorted(genres, key=genres.get, reverse=True)[:top_genre_count]  # get N most upvoted genres\n",
    "    return sorted_genres\n",
    "\n",
    "\n",
    "test_release = 'cold weather'\n",
    "test_artist = 'glass beach'\n",
    "print(get_genre(test_artist, test_release, 10)) # returns 10 most upvoted genre labels for cold weather by glass beach\n"
   ]
  },
  {
   "cell_type": "code",
   "execution_count": 36,
   "metadata": {},
   "outputs": [
    {
     "name": "stdout",
     "output_type": "stream",
     "text": [
      "artist: Cyndi Lauper\tsong: Into The Nightlife\tgenres: ['rock', 'electronic', 'pop rock']\n",
      "artist: Matthew Wilder\tsong: Break My Stride\tgenres: ['electronic', 'synth-pop', 'euro house']\n",
      "artist: Tesla\tsong: Caught In A Dream\tgenres: ['rock', 'pop', 'electronic']\n",
      "artist: Brian Wilson\tsong: Keep An Eye On Summer (Album Version)\tgenres: ['rock', 'electronic', 'pop']\n",
      "artist: Old Man River\tsong: Summer\tgenres: ['rock', 'electronic', 'synth-pop']\n",
      "artist: Tracy Chapman\tsong: Fast Car (LP Version)\tgenres: ['pop', 'electronic', 'rock']\n",
      "artist: Chris Rea\tsong: Driving Home For Christmas\tgenres: ['pop', 'rock', 'christmas']\n",
      "artist: Hank Williams Jr.\tsong: Tuesday's Gone (Remastered Album Version)\tgenres: ['rock', 'country', 'blues rock']\n",
      "artist: Tokio Hotel\tsong: 1000 Meere\tgenres: ['rock', 'pop', 'experimental']\n",
      "artist: Black Eyed Peas\tsong: Let's Get It Started\tgenres: ['hip hop', 'pop rap', 'electronic']\n",
      "artist: Calle Kristiansson\tsong: Hungry Heart\tgenres: ['rock', 'pop rock', 'pop']\n",
      "artist: LITTLE TEXAS\tsong: My Love (Album Version)\tgenres: ['electronic', 'rock', 'house']\n",
      "artist: Julien Clerc\tsong: This Melody (Live)\tgenres: ['rock', 'experimental', 'jazz']\n",
      "artist: The Hollies\tsong: Stop Stop Stop (1999 Digital Remaster)\tgenres: ['rock', 'electronic', 'pop']\n",
      "artist: Nelson Ned\tsong: Brasas Vivas\tgenres: ['rock', 'psychedelic rock', 'experimental']\n",
      "artist: Arisen Flame\tsong: Income\tgenres: ['electronic', 'hip hop', 'ragga']\n",
      "artist: Doves\tsong: Jetstream (Sasha Subdub)\tgenres: ['electronic', 'house', 'pop']\n",
      "artist: Space DJZ\tsong: Force Majeure\tgenres: ['electronic', 'rock', 'techno']\n",
      "artist: Sonny fodera\tsong: Changes feat Adaja Black (Original Mix)\tgenres: ['electronic', 'house', 'tribal house']\n",
      "artist: Marilyn Monroe\tsong: I Wanna Be Loved By You\tgenres: ['pop', 'electronic', 'jazz']\n",
      "artist: Brazilian Tropical Orchestra\tsong: One Less Bell To Answer\tgenres: ['rock', 'pop', 'punk']\n",
      "artist: The Verve\tsong: Bitter Sweet Symphony\tgenres: ['pop', 'electronic', 'jazz']\n",
      "artist: Gary Smith\tsong: It's Your Store\tgenres: ['rock', 'dance', 'pop']\n",
      "artist: Saeed Younan\tsong: Yeah Ha\tgenres: ['rock', 'electronic', 'punk']\n",
      "artist: Nine Inch Nails\tsong: The Frail\tgenres: ['industrial', 'electronic', 'rock']\n",
      "artist: Abba\tsong: The Name Of The Game\tgenres: ['electronic', 'rock', 'pop']\n",
      "artist: Queen + Paul Rodgers\tsong: We Are The Champions (Live In Ukraine)\tgenres: ['rock', 'pop rock', 'classic rock']\n",
      "artist: 2 Fabiola\tsong: Magic Flight\tgenres: ['electronic', 'trance', 'rock']\n",
      "artist: The B-52's\tsong: Wig\tgenres: ['electronic', 'rock', 'house']\n",
      "artist: Chris Brown\tsong: Forever\tgenres: ['r b', 'electronic', 'hip hop']\n",
      "artist: David Bowie\tsong: Life On Mars? (1990 Digital Remaster)\tgenres: ['rock', 'pop', 'electronic']\n",
      "artist: Nat King Cole\tsong: When I Fall In Love\tgenres: ['pop', 'jazz', 'electronic']\n",
      "artist: Orbital\tsong: Illuminate\tgenres: ['electronic', 'synth-pop', 'rock']\n",
      "artist: Virginia Jetzt!\tsong: Hier Zu Sein\tgenres: ['rock', 'pop', 'punk']\n",
      "artist: Philadelphia Orchestra_ Eugene Ormandy\tsong: The Nutcracker Suite: March\tgenres: ['classical', 'jazz', 'art rock']\n",
      "artist: Ace Cannon\tsong: Rockin Robin\tgenres: ['pop', 'rock', 'classical']\n",
      "artist: Jocelyn Pook\tsong: Sleigh Ride\tgenres: ['pop', 'rock', 'instrumental']\n",
      "artist: Harold Faltermeyer\tsong: Axel F\tgenres: ['electronic', 'electro', 'synth-pop']\n",
      "artist: Steps\tsong: I Know Him So Well\tgenres: ['rock', 'pop', 'pop rock']\n",
      "artist: Gerry Rafferty\tsong: Baker Street (Edit)\tgenres: ['rock', 'pop rock', 'house']\n",
      "artist: DMX / Sisqo\tsong: What These Bitches Want\tgenres: ['electronic', 'house', 'comedy']\n",
      "artist: The Shirelles\tsong: Will You Love Me Tomorrow\tgenres: ['pop', 'rock', 'pop rock']\n",
      "artist: The Jacksons\tsong: Rock With You\tgenres: ['rock', 'electronic', 'pop']\n",
      "artist: Lionel Rogg\tsong: Prelude And Fugue In C Major BWV 531 : Fugue\tgenres: ['classical', 'baroque', 'e-musik']\n",
      "artist: Huey Lewis & The News\tsong: I Want A New Drug\tgenres: ['rock', 'pop rock', 'electronic']\n",
      "artist: Westlife\tsong: When You're Looking Like That\tgenres: ['rock', 'electronic', 'rock and roll']\n",
      "finished\n"
     ]
    }
   ],
   "source": [
    "# NOTE: scraping rate is not currently handled. can add 1 sec wait or smth but use at own risk\n",
    "\n",
    "def match_genres(directory, output_fp, backup='backup.json', num_genres=3):\n",
    "    \"\"\"\n",
    "    match_genres matches genres to each h5 file \n",
    "    directory: root directory containing all nested h5 files\n",
    "    output_fp: filepath of output json file containing genre matching data\n",
    "    backup: filepath of backup json file for intermediate writes (uncomment code under intermediary save to use)\n",
    "    num_genres: number of genres to match to each song\n",
    "    \"\"\"\n",
    "    json_data = []  # list of dicts that will be stored as json strings\n",
    "    for root, dirs, files in os.walk(directory):   # recurse through directory\n",
    "        backup_data = []\n",
    "        for file in files:\n",
    "            hdf5_path = os.path.join(root, file)\n",
    "            data = tables.open_file(hdf5_path, mode='r')\n",
    "            try:\n",
    "                artist = data.root.metadata.songs.cols.artist_name[:][0].decode('utf-8')\n",
    "                song = data.root.metadata.songs.cols.title[:][0].decode('utf-8')\n",
    "                genres = get_genre(artist, song, num_genres)\n",
    "                if genres:\n",
    "                    match = { 'artist': artist, 'song': song, 'genres': genres}\n",
    "                    json_data.append(match)\n",
    "                    backup_data.append(match)\n",
    "                \n",
    "                print(f\"artist: {artist}\\tsong: {song}\\tgenres: {genres}\")\n",
    "            except Exception as e:  # generic catch-all, stops code from terminating halfway\n",
    "                print(f\"Error parsing info for file {hdf5_path}: {e}\")\n",
    "                data.close()\n",
    "\n",
    "            data.close()\n",
    "\n",
    "        # intermediary save - data is uglier, but prevents total loss of progress if runtime error is encountered\n",
    "        # with open(backup, 'a') as file:\n",
    "        #     json.dump(backup_data, file, indent=4)\n",
    "\n",
    "\n",
    "    with open(output_fp, 'w') as file:\n",
    "        json.dump(json_data, file, indent=4)\n",
    "    \n",
    "    print('finished')\n",
    "    \n",
    "\n",
    "match_genres('A', 'match_genre.json') # pass in folder with lmd_matched_h5 data and write the output to match_genre.json"
   ]
  },
  {
   "cell_type": "code",
   "execution_count": 7,
   "metadata": {},
   "outputs": [
    {
     "name": "stdout",
     "output_type": "stream",
     "text": [
      "Million Song Dataset ID TRRNARX128F4264AEB has 1 MIDI file matches:\n",
      " cd3b9c8bb118575bcd712cffdba85fce with confidence score 0.7040202098544246\n"
     ]
    }
   ],
   "source": [
    "# # scratch cell, ignore\n",
    "# SCORE_FILE = os.path.join('../lmd_unwrapped_files/', 'match_scores.json')\n",
    "\n",
    "# with open(SCORE_FILE) as f:\n",
    "#     scores = json.load(f)\n",
    "# # Grab a Million Song Dataset ID from the scores dictionary\n",
    "# msd_id = list(scores.keys())[0]\n",
    "# print(f'Million Song Dataset ID {msd_id} has {len(scores[msd_id])} MIDI file matches:')\n",
    "# for midi_md5, score in scores[msd_id].items():\n",
    "#     print( f' {midi_md5} with confidence score {score}')"
   ]
  }
 ],
 "metadata": {
  "kernelspec": {
   "display_name": ".cogsenv",
   "language": "python",
   "name": "python3"
  },
  "language_info": {
   "codemirror_mode": {
    "name": "ipython",
    "version": 3
   },
   "file_extension": ".py",
   "mimetype": "text/x-python",
   "name": "python",
   "nbconvert_exporter": "python",
   "pygments_lexer": "ipython3",
   "version": "3.9.10"
  }
 },
 "nbformat": 4,
 "nbformat_minor": 2
}
