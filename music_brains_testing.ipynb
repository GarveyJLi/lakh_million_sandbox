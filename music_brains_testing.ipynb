{
 "cells": [
  {
   "cell_type": "code",
   "execution_count": 1,
   "metadata": {},
   "outputs": [],
   "source": [
    "import json\n",
    "from collections import defaultdict\n",
    "from sklearn import linear_model, model_selection\n",
    "import numpy as np\n",
    "import random\n",
    "import gzip\n",
    "import dateutil.parser\n",
    "import math\n",
    "import mido\n",
    "import pretty_midi\n",
    "import joblib\n",
    "import glob\n",
    "import matplotlib.pyplot as plt\n",
    "import seaborn as sns\n",
    "import matplotlib.gridspec\n",
    "import collections\n",
    "import os\n",
    "import tarfile\n",
    "import tables\n",
    "import requests as re\n",
    "import hdf5_getters as GETTERS\n",
    "from midi_methods import *\n",
    "\n",
    "#%store -r"
   ]
  },
  {
   "cell_type": "code",
   "execution_count": 2,
   "metadata": {},
   "outputs": [],
   "source": [
    "# Root: https://musicbrainz.org/ws/2/\n",
    "# https://musicbrainz.org/ws/2/release-group/772f27e5-7d84-35a9-9f97-22ebd5171158?inc=genres&fmt=json\n",
    "headers = {\n",
    "    'User-Agent': 'Mozilla/5.0 (Windows NT 10.0; WOW64) AppleWebKit/537.36 (KHTML, like Gecko) Chrome/109.0.0.0 Safari/537.36',\n",
    "    'From': 'garvey.j.li@gmail.com'\n",
    "}\n",
    "test_json = re.get('https://musicbrainz.org/ws/2/release-group/772f27e5-7d84-35a9-9f97-22ebd5171158?inc=genres&fmt=json', headers=headers).json()"
   ]
  },
  {
   "cell_type": "code",
   "execution_count": 3,
   "metadata": {},
   "outputs": [],
   "source": [
    "test_release = 'Bring Ya to the Brink'\n",
    "test_artist = 'Cyndi Lauper'\n",
    "# https://musicbrainz.org/ws/2/release-group?query=\"Bring%20Ya%20to%20the%20Brink\"?inc=genres&fmt=json\n",
    "test_search = re.get('https://musicbrainz.org/ws/2/release-group?query=\"' + test_release + '\"AND\"' + test_artist +'\"?inc=genres&fmt=json', headers=headers).json()"
   ]
  },
  {
   "cell_type": "code",
   "execution_count": 4,
   "metadata": {},
   "outputs": [
    {
     "data": {
      "text/plain": [
       "{'count': 4, 'name': 'electronic'}"
      ]
     },
     "execution_count": 4,
     "metadata": {},
     "output_type": "execute_result"
    }
   ],
   "source": [
    "genres = test_search['release-groups'][0]['tags']\n",
    "genres.sort(key=lambda x: x['count'], reverse=True)\n",
    "top_genre = genres[0]\n",
    "top_genre"
   ]
  },
  {
   "cell_type": "code",
   "execution_count": 5,
   "metadata": {},
   "outputs": [
    {
     "data": {
      "text/plain": [
       "'Bring Ya to the Brink'"
      ]
     },
     "execution_count": 5,
     "metadata": {},
     "output_type": "execute_result"
    }
   ],
   "source": [
    "test_release"
   ]
  },
  {
   "cell_type": "code",
   "execution_count": null,
   "metadata": {},
   "outputs": [],
   "source": []
  }
 ],
 "metadata": {
  "kernelspec": {
   "display_name": "cogs108",
   "language": "python",
   "name": "python3"
  },
  "language_info": {
   "codemirror_mode": {
    "name": "ipython",
    "version": 3
   },
   "file_extension": ".py",
   "mimetype": "text/x-python",
   "name": "python",
   "nbconvert_exporter": "python",
   "pygments_lexer": "ipython3",
   "version": "3.10.13"
  }
 },
 "nbformat": 4,
 "nbformat_minor": 2
}
