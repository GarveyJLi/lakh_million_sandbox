{
 "cells": [
  {
   "cell_type": "code",
   "execution_count": 1,
   "metadata": {},
   "outputs": [],
   "source": [
    "import json"
   ]
  },
  {
   "cell_type": "code",
   "execution_count": 2,
   "metadata": {},
   "outputs": [],
   "source": [
    "f = open('../data/midi_full.json')\n",
    "midi_data = json.load(f)\n",
    "f.close()\n"
   ]
  },
  {
   "cell_type": "code",
   "execution_count": 3,
   "metadata": {},
   "outputs": [
    {
     "data": {
      "text/plain": [
       "{'song_id': 'TRAAAGR128F425B14B',\n",
       " 'title': 'Into The Nightlife',\n",
       " 'midi_fp': '../data/lmd_aligned/A/A/A/TRAAAGR128F425B14B/b97c529ab9ef783a849b896816001748.mid',\n",
       " 'genres': ['rock', 'electronic', 'pop rock'],\n",
       " 'metadata': '../data/lmd_matched_h5/A/A/A/TRAAAGR128F425B14B.h5',\n",
       " 'song_len': 228.1482627,\n",
       " 'num_instruments': 16,\n",
       " 'instruments': [['106', False],\n",
       "  ['28', False],\n",
       "  ['24', True],\n",
       "  ['75', False],\n",
       "  ['108', False],\n",
       "  ['90', False],\n",
       "  ['39', False],\n",
       "  ['87', False],\n",
       "  ['49', False],\n",
       "  ['22', False],\n",
       "  ['117', False],\n",
       "  ['17', False],\n",
       "  ['63', False],\n",
       "  ['52', False],\n",
       "  ['0', False],\n",
       "  ['62', False]],\n",
       " 'key_changes': {},\n",
       " 'time_signature_changes': {'0.0': '4/4'},\n",
       " 'lyrics_len': 288,\n",
       " 'tempo_changes': {'0.0': 122.00180562672327},\n",
       " 'tempo': 257.68935169811226,\n",
       " 'beat_start': 2.45898,\n",
       " 'num_notes': 7570,\n",
       " 'pitch_class_histogram': [0.11403508771929824,\n",
       "  0.0,\n",
       "  0.14364035087719298,\n",
       "  0.0,\n",
       "  0.04824561403508772,\n",
       "  0.20833333333333334,\n",
       "  0.0,\n",
       "  0.23848684210526316,\n",
       "  0.0,\n",
       "  0.20723684210526316,\n",
       "  0.0,\n",
       "  0.0400219298245614]}"
      ]
     },
     "execution_count": 3,
     "metadata": {},
     "output_type": "execute_result"
    }
   ],
   "source": [
    "midi_data[0]"
   ]
  },
  {
   "cell_type": "code",
   "execution_count": null,
   "metadata": {},
   "outputs": [],
   "source": []
  }
 ],
 "metadata": {
  "kernelspec": {
   "display_name": "cogs108",
   "language": "python",
   "name": "python3"
  },
  "language_info": {
   "codemirror_mode": {
    "name": "ipython",
    "version": 3
   },
   "file_extension": ".py",
   "mimetype": "text/x-python",
   "name": "python",
   "nbconvert_exporter": "python",
   "pygments_lexer": "ipython3",
   "version": "3.10.13"
  }
 },
 "nbformat": 4,
 "nbformat_minor": 2
}
