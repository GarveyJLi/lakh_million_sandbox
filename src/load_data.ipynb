{
 "cells": [
  {
   "cell_type": "markdown",
   "metadata": {},
   "source": [
    "# This notebook will load our data\n",
    "#### Each observation is a song\n",
    "#### Each observation has a unique id, song title, list of genres for that song, and a filepath to that song's midi file in our data. (See download_data.ipynb for how to install the data)\n",
    "#### \n",
    "\n",
    "#### The cell below prepares our data"
   ]
  },
  {
   "cell_type": "code",
   "execution_count": 1,
   "metadata": {},
   "outputs": [
    {
     "data": {
      "text/plain": [
       "\"\\n# NOTE THE FUNCTION BELOW IS NOT NECESSARY AS IT'S OUTPUT IS ALREADY PROVIDED\\n# See load_genre_data.py to see how we pulled genre data for the Lakh dataset\\n\""
      ]
     },
     "execution_count": 1,
     "metadata": {},
     "output_type": "execute_result"
    }
   ],
   "source": [
    "# Get our data\n",
    "\n",
    "\"\"\" UNCOMMENT THESE LINES TO DOWNLOAD AND UNCOMPRESS DATA \"\"\"\n",
    "# from download_data import download_lmd_data, decompress_lmd_data\n",
    "# download_lmd_data()\n",
    "# decompress_lmd_data()\n",
    "\n",
    "\"\"\"\n",
    "# NOTE THE FUNCTION BELOW IS NOT NECESSARY AS IT'S OUTPUT IS ALREADY PROVIDED\n",
    "# See load_genre_data.py to see how we pulled genre data for the Lakh dataset\n",
    "\"\"\"\n",
    "# Install genre data\n",
    "# from load_genre_data import match_genres\n",
    "# match_genres('../data/lmd_matched_h5/', '../data/match_genre.json')"
   ]
  },
  {
   "cell_type": "code",
   "execution_count": null,
   "metadata": {},
   "outputs": [],
   "source": []
  },
  {
   "cell_type": "code",
   "execution_count": null,
   "metadata": {},
   "outputs": [],
   "source": []
  },
  {
   "cell_type": "code",
   "execution_count": null,
   "metadata": {},
   "outputs": [],
   "source": []
  }
 ],
 "metadata": {
  "kernelspec": {
   "display_name": "tf_gpu",
   "language": "python",
   "name": "tf_gpu"
  },
  "language_info": {
   "codemirror_mode": {
    "name": "ipython",
    "version": 3
   },
   "file_extension": ".py",
   "mimetype": "text/x-python",
   "name": "python",
   "nbconvert_exporter": "python",
   "pygments_lexer": "ipython3",
   "version": "3.10.13"
  }
 },
 "nbformat": 4,
 "nbformat_minor": 4
}
